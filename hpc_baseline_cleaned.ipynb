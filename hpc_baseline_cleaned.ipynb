{
 "cells": [
  {
   "cell_type": "markdown",
   "id": "ff676c4b",
   "metadata": {},
   "source": [
    "# Reading in the data"
   ]
  },
  {
   "cell_type": "code",
   "execution_count": 1,
   "id": "f45118e8",
   "metadata": {},
   "outputs": [],
   "source": [
    "def read_sent(path):\n",
    "\n",
    "    \"\"\"\n",
    "    Reads a file containing sentences and returns a list of lists, where each inner list represents a sentence and contains the tokens (words or symbols) present in that sentence.\n",
    "\n",
    "    Args:\n",
    "    path (str): The path to the file containing the sentences.\n",
    "\n",
    "    Returns:\n",
    "    list: A list of lists, where each inner list represents a sentence and contains its tokens.\n",
    "    \"\"\"\n",
    "\n",
    "    ents = []\n",
    "    curEnts = []\n",
    "    for line in open(path):\n",
    "        line = line.strip()\n",
    "        if line == '':\n",
    "            ents.append(curEnts)\n",
    "            curEnts = []\n",
    "        elif line[0] == '#' and len(line.split('\\t')) == 1:\n",
    "            continue\n",
    "        else:\n",
    "            curEnts.append(line.split('\\t')[1])\n",
    "    return(ents)\n",
    "\n",
    "def read_labels(path):\n",
    "    ents = []\n",
    "    curEnts = []\n",
    "    for line in open(path):\n",
    "        line = line.strip()\n",
    "        if line == '':\n",
    "            ents.append(curEnts)\n",
    "            curEnts = []\n",
    "        elif line[0] == '#' and len(line.split('\\t')) == 1:\n",
    "            continue\n",
    "        else:\n",
    "            curEnts.append(line.split('\\t')[2])\n",
    "    return(ents)\n",
    "\n",
    "def read_index(path):\n",
    "    ents = []\n",
    "    curEnts = []\n",
    "    for line in open(path):\n",
    "        line = line.strip()\n",
    "        if line == '':\n",
    "            ents.append(curEnts)\n",
    "            curEnts = []\n",
    "        elif line[0] == '#' and len(line.split('\\t')) == 1:\n",
    "            continue\n",
    "        else:\n",
    "            curEnts.append(line.split('\\t')[0])\n",
    "    return(ents)"
   ]
  },
  {
   "cell_type": "code",
   "execution_count": 2,
   "id": "9c14e7b7",
   "metadata": {},
   "outputs": [],
   "source": [
    "#Training data\n",
    "\n",
    "#returns list of lists\n",
    "training_labels = read_labels(\"baseline_data/en_ewt-ud-train.iob2\")\n",
    "training_sent = read_sent(\"baseline_data/en_ewt-ud-train.iob2\")\n",
    "\n",
    "#flatten to one list to be able to use myutils\n",
    "train_flat_labels = sum(training_labels, [])\n",
    "train_flat_sent = sum(training_sent, [])"
   ]
  },
  {
   "cell_type": "code",
   "execution_count": 3,
   "id": "a2e0b854",
   "metadata": {},
   "outputs": [],
   "source": [
    "#Evaluation data\n",
    "\n",
    "dev_labels = read_labels(\"baseline_data/en_ewt-ud-dev.iob2\")\n",
    "dev_sent = read_sent(\"baseline_data/en_ewt-ud-dev.iob2\")\n",
    "\n",
    "dev_flat_labels = sum(dev_labels, [])\n",
    "dev_flat_sent = sum(dev_sent, [])"
   ]
  },
  {
   "cell_type": "code",
   "execution_count": 4,
   "id": "e5e36744",
   "metadata": {},
   "outputs": [],
   "source": [
    "#Test data\n",
    "#Keeping track of indeces to save to required .iob2 format for model's predictions\n",
    "\n",
    "test_labels = read_labels(\"baseline_data/en_ewt-ud-test.iob2\")\n",
    "test_sent = read_sent(\"baseline_data/en_ewt-ud-test.iob2\")\n",
    "test_index = read_index(\"baseline_data/en_ewt-ud-test.iob2\")\n",
    "\n",
    "test_flat_labels = sum(test_labels, [])\n",
    "test_flat_sent = sum(test_sent, [])\n",
    "test_flat_index = sum(test_index, [])"
   ]
  },
  {
   "cell_type": "markdown",
   "id": "bb8f4b8f",
   "metadata": {},
   "source": [
    "# tokenization"
   ]
  },
  {
   "cell_type": "code",
   "execution_count": 5,
   "id": "430f6d5f",
   "metadata": {},
   "outputs": [],
   "source": [
    "#!pip install transformers"
   ]
  },
  {
   "cell_type": "code",
   "execution_count": 6,
   "id": "625b5319",
   "metadata": {},
   "outputs": [],
   "source": [
    "from transformers import AutoTokenizer\n",
    "\n",
    "model_checkpoint = \"bert-base-uncased\"\n",
    "tokenizer = AutoTokenizer.from_pretrained(model_checkpoint)"
   ]
  },
  {
   "cell_type": "code",
   "execution_count": 7,
   "id": "f4a57cb8",
   "metadata": {},
   "outputs": [],
   "source": [
    "#inputs = []\n",
    "#for sentence in training_sent:\n",
    "    #inputt = tokenizer(sentence, is_split_into_words=True, padding = 'max_length', max_length = 512, truncation = True)\n",
    "    #inputs.append(inputt)"
   ]
  },
  {
   "cell_type": "code",
   "execution_count": 8,
   "id": "ad5de8d5",
   "metadata": {},
   "outputs": [],
   "source": [
    "#inputs_dev = []\n",
    "#for sentence in dev_sent:\n",
    "    #inputt = tokenizer(sentence, is_split_into_words=True, padding = 'max_length', max_length = 512, truncation = True)\n",
    "    #inputs_dev.append(inputt)"
   ]
  },
  {
   "cell_type": "code",
   "execution_count": 9,
   "id": "15e08580",
   "metadata": {},
   "outputs": [],
   "source": [
    "#inputs_test = []\n",
    "#for sentence in test_sent:\n",
    "    #inputt = tokenizer(sentence, is_split_into_words=True, padding = 'max_length', max_length = 512, truncation = True)\n",
    "    #inputs_test.append(inputt)"
   ]
  },
  {
   "cell_type": "code",
   "execution_count": 10,
   "id": "7ab7d8ca",
   "metadata": {},
   "outputs": [],
   "source": [
    "#not in use unless when we use new code\n",
    "def align_labels_with_tokens(labels, word_ids):\n",
    "    new_labels = []\n",
    "    current_word = None\n",
    "    for word_id in word_ids:\n",
    "        if word_id != current_word:\n",
    "            # Start of a new word!\n",
    "            current_word = word_id\n",
    "            label = -100 if word_id is None else labels[word_id]\n",
    "            new_labels.append(label)\n",
    "        elif word_id is None:\n",
    "            # Special token\n",
    "            new_labels.append(-100)\n",
    "        else:\n",
    "            # Same word as previous token\n",
    "            label = labels[word_id]\n",
    "            # If the label is B-XXX we change it to I-XXX\n",
    "            if label % 2 == 1:\n",
    "                label += 1\n",
    "            new_labels.append(label)\n",
    "\n",
    "    return new_labels"
   ]
  },
  {
   "cell_type": "code",
   "execution_count": 11,
   "id": "b1e1b861",
   "metadata": {},
   "outputs": [],
   "source": [
    "#not in use when we use old code\n",
    "def list_to_sentences(lst):\n",
    "    \"\"\"Converts list back to sentences\n",
    "        Args:\n",
    "        Returns:\n",
    "    \"\"\"\n",
    "    sentences = []\n",
    "    current_sentence = []\n",
    "    \n",
    "    for item in lst:\n",
    "        if item == -100:\n",
    "            if current_sentence:\n",
    "                sentences.append(current_sentence)\n",
    "                current_sentence = []\n",
    "        else:\n",
    "            current_sentence.append(item)\n",
    "    \n",
    "    if current_sentence:\n",
    "        sentences.append(current_sentence)\n",
    "    \n",
    "    return sentences\n"
   ]
  },
  {
   "cell_type": "code",
   "execution_count": 12,
   "id": "6c758878",
   "metadata": {},
   "outputs": [],
   "source": [
    "import pandas as pd\n",
    "label_all_tokens = True"
   ]
  },
  {
   "cell_type": "code",
   "execution_count": 36,
   "id": "42ff1760",
   "metadata": {},
   "outputs": [],
   "source": [
    "def tokenize_and_align_labels(sentences, tags, tokenizer):\n",
    "    tokenized_inputs = tokenizer(sentences, truncation=True, is_split_into_words=True, padding=True)\n",
    "\n",
    "    aligned_labels = []\n",
    "    for i, label in enumerate(pd.Series(tags)):\n",
    "        word_ids = tokenized_inputs.word_ids(batch_index=i)\n",
    "        previous_word_idx = None\n",
    "        label_ids = []\n",
    "        for word_idx in word_ids:\n",
    "            if word_idx is None:\n",
    "                label_ids.append(-100)\n",
    "            elif word_idx != previous_word_idx:\n",
    "                label_ids.append(label[word_idx])\n",
    "            else:\n",
    "                label_ids.append(label[word_idx] if label_all_tokens else -100)\n",
    "            previous_word_idx = word_idx\n",
    "\n",
    "        aligned_labels.append(label_ids)\n",
    "\n",
    "    tokenized_inputs[\"labels\"] = aligned_labels\n",
    "    return tokenized_inputs.data"
   ]
  },
  {
   "cell_type": "code",
   "execution_count": 37,
   "id": "e9b2866d",
   "metadata": {},
   "outputs": [],
   "source": [
    "id2label = {0: 'O',\n",
    "            1: 'B-LOC', \n",
    "            2: 'I-LOC',\n",
    "            3: 'B-PER',\n",
    "            4: 'B-ORG',\n",
    "            5: 'I-ORG',\n",
    "            6: 'I-PER'\n",
    "           }"
   ]
  },
  {
   "cell_type": "code",
   "execution_count": 15,
   "id": "8284aa19",
   "metadata": {},
   "outputs": [],
   "source": [
    "label2id = {label: id for id, label in id2label.items()}"
   ]
  },
  {
   "cell_type": "code",
   "execution_count": 16,
   "id": "bb4d016a",
   "metadata": {},
   "outputs": [],
   "source": [
    "#convert labels from bio to numerical values\n",
    "dev_labels_num = [[label2id.get(label, label2id) for label in sublist] for sublist in dev_labels]\n",
    "training_labels_num = [[label2id.get(label, label2id) for label in sublist] for sublist in training_labels]\n",
    "test_labels_num = [[label2id.get(label, label2id) for label in sublist] for sublist in test_labels]"
   ]
  },
  {
   "cell_type": "code",
   "execution_count": null,
   "id": "603d2506",
   "metadata": {},
   "outputs": [],
   "source": [
    "# train_labels_num = [label2id[label_id] for label_id in train_labels]\n",
    "\n",
    "\n",
    "# labels = training_labels\n",
    "# word_ids = []\n",
    "# for i in inputs:\n",
    "#     word_ids.append(i.word_ids())\n",
    "# word_ids_flat = sum(word_ids, [])\n",
    "# aligned_training = align_labels_with_tokens(train_labels_num, word_ids_flat)\n",
    "\n",
    "# sentences = list_to_sentences(aligned_training)\n",
    "\n",
    "# to_zip_train = [[-100] + sublist + [-100] for sublist in sentences]\n",
    "\n",
    "\n",
    "# # Assuming inputs and to_zip_train are defined as provided\n",
    "\n",
    "# # Zip inputs with to_zip_train and add 'label' key to each item in inputs\n",
    "# for input_item, label_item in zip(inputs, to_zip_train):\n",
    "#     input_item['labels'] = label_item\n",
    "\n",
    "# # Print the updated inputs list"
   ]
  },
  {
   "cell_type": "code",
   "execution_count": null,
   "id": "8ae2fb58",
   "metadata": {},
   "outputs": [],
   "source": [
    "#dev_flat_labels_num = [label2id[label_id] for label_id in dev_flat_labels]\n",
    "\n",
    "\n",
    "# labels = dev_labels\n",
    "# word_ids = []\n",
    "# for i in inputs_dev:\n",
    "#     word_ids.append(i.word_ids())\n",
    "# word_ids_flat = sum(word_ids, [])\n",
    "# aligned_dev = align_labels_with_tokens(dev_flat_labels_num, word_ids_flat)\n",
    "\n",
    "\n",
    "# sentences = list_to_sentences(aligned_dev)\n",
    "\n",
    "# to_zip_dev = [[-100] + sublist + [-100] for sublist in sentences]\n",
    "\n",
    "\n",
    "# # Assuming inputs and to_zip_train are defined as provided\n",
    "\n",
    "# # Zip inputs with to_zip_train and add 'label' key to each item in inputs\n",
    "# for input_item, label_item in zip(inputs_dev, to_zip_dev):\n",
    "#     input_item['labels'] = label_item\n",
    "\n",
    "# # Print the updated inputs list\n",
    "# print(inputs_dev[0])"
   ]
  },
  {
   "cell_type": "code",
   "execution_count": null,
   "id": "82c5a4c6",
   "metadata": {},
   "outputs": [],
   "source": [
    "#test_flat_labels_num = [label2id[label_id] for label_id in test_flat_labels]\n",
    "\n",
    "\n",
    "# labels = test_labels\n",
    "# word_ids = []\n",
    "# for i in inputs_test:\n",
    "#     word_ids.append(i.word_ids())\n",
    "# word_ids_flat = sum(word_ids, [])\n",
    "# aligned_test = align_labels_with_tokens(test_flat_labels_num, word_ids_flat)\n",
    "\n",
    "\n",
    "# sentences = list_to_sentences(aligned_test)\n",
    "\n",
    "# to_zip_test = [[-100] + sublist + [-100] for sublist in sentences]\n",
    "\n",
    "\n",
    "# # Assuming inputs and to_zip_train are defined as provided\n",
    "\n",
    "# # Zip inputs with to_zip_train and add 'label' key to each item in inputs\n",
    "# for input_item, label_item in zip(inputs_test, to_zip_test):\n",
    "#     input_item['labels'] = label_item\n",
    "\n",
    "# # Print the updated inputs list\n",
    "# print(inputs_test[0])"
   ]
  },
  {
   "cell_type": "code",
   "execution_count": 17,
   "id": "fce7c3ab",
   "metadata": {},
   "outputs": [],
   "source": [
    "tokenized_dev_data = tokenize_and_align_labels(dev_sent, dev_labels_num, tokenizer)"
   ]
  },
  {
   "cell_type": "code",
   "execution_count": 18,
   "id": "edbf0a63",
   "metadata": {},
   "outputs": [],
   "source": [
    "tokenized_training_data = tokenize_and_align_labels(training_sent, training_labels_num, tokenizer)"
   ]
  },
  {
   "cell_type": "code",
   "execution_count": 19,
   "id": "38ba3b38",
   "metadata": {},
   "outputs": [],
   "source": [
    "tokenized_test_data = tokenize_and_align_labels(test_sent, test_labels_num, tokenizer)"
   ]
  },
  {
   "cell_type": "code",
   "execution_count": 20,
   "id": "28496d39",
   "metadata": {
    "scrolled": true
   },
   "outputs": [],
   "source": [
    "#!pip install datasets"
   ]
  },
  {
   "cell_type": "code",
   "execution_count": 21,
   "id": "5886e66b",
   "metadata": {},
   "outputs": [],
   "source": [
    "from datasets import Dataset"
   ]
  },
  {
   "cell_type": "code",
   "execution_count": 22,
   "id": "812371b4",
   "metadata": {},
   "outputs": [],
   "source": [
    "train_dataset = Dataset.from_dict({\n",
    "    'id': range(len(tokenized_training_data['input_ids'])),\n",
    "    'input_ids': tokenized_training_data['input_ids'],\n",
    "    'attention_mask': tokenized_training_data['attention_mask'],\n",
    "    'labels': tokenized_training_data['labels']\n",
    "})\n",
    "\n",
    "dev_dataset = Dataset.from_dict({\n",
    "    'id': range(len(tokenized_dev_data['input_ids'])),\n",
    "    'input_ids': tokenized_dev_data['input_ids'],\n",
    "    'attention_mask': tokenized_dev_data['attention_mask'],\n",
    "    'labels': tokenized_dev_data['labels']\n",
    "})\n",
    "\n",
    "test_dataset = Dataset.from_dict({\n",
    "    'id': range(len(tokenized_test_data['input_ids'])),\n",
    "    'input_ids': tokenized_test_data['input_ids'],\n",
    "    'attention_mask': tokenized_test_data['attention_mask'],\n",
    "    'labels': tokenized_test_data['labels']\n",
    "})"
   ]
  },
  {
   "cell_type": "code",
   "execution_count": 23,
   "id": "8af096d7",
   "metadata": {},
   "outputs": [
    {
     "name": "stderr",
     "output_type": "stream",
     "text": [
      "huggingface/tokenizers: The current process just got forked, after parallelism has already been used. Disabling parallelism to avoid deadlocks...\n",
      "To disable this warning, you can either:\n",
      "\t- Avoid using `tokenizers` before the fork if possible\n",
      "\t- Explicitly set the environment variable TOKENIZERS_PARALLELISM=(true | false)\n",
      "huggingface/tokenizers: The current process just got forked, after parallelism has already been used. Disabling parallelism to avoid deadlocks...\n",
      "To disable this warning, you can either:\n",
      "\t- Avoid using `tokenizers` before the fork if possible\n",
      "\t- Explicitly set the environment variable TOKENIZERS_PARALLELISM=(true | false)\n",
      "huggingface/tokenizers: The current process just got forked, after parallelism has already been used. Disabling parallelism to avoid deadlocks...\n",
      "To disable this warning, you can either:\n",
      "\t- Avoid using `tokenizers` before the fork if possible\n",
      "\t- Explicitly set the environment variable TOKENIZERS_PARALLELISM=(true | false)\n",
      "huggingface/tokenizers: The current process just got forked, after parallelism has already been used. Disabling parallelism to avoid deadlocks...\n",
      "To disable this warning, you can either:\n",
      "\t- Avoid using `tokenizers` before the fork if possible\n",
      "\t- Explicitly set the environment variable TOKENIZERS_PARALLELISM=(true | false)\n",
      "huggingface/tokenizers: The current process just got forked, after parallelism has already been used. Disabling parallelism to avoid deadlocks...\n",
      "To disable this warning, you can either:\n",
      "\t- Avoid using `tokenizers` before the fork if possible\n",
      "\t- Explicitly set the environment variable TOKENIZERS_PARALLELISM=(true | false)\n",
      "huggingface/tokenizers: The current process just got forked, after parallelism has already been used. Disabling parallelism to avoid deadlocks...\n",
      "To disable this warning, you can either:\n",
      "\t- Avoid using `tokenizers` before the fork if possible\n",
      "\t- Explicitly set the environment variable TOKENIZERS_PARALLELISM=(true | false)\n"
     ]
    }
   ],
   "source": [
    "import evaluate\n",
    "from datasets import load_metric"
   ]
  },
  {
   "cell_type": "code",
   "execution_count": 24,
   "id": "ebe5eba4",
   "metadata": {},
   "outputs": [
    {
     "name": "stderr",
     "output_type": "stream",
     "text": [
      "/tmp/ipykernel_10686/152412463.py:1: FutureWarning: load_metric is deprecated and will be removed in the next major version of datasets. Use 'evaluate.load' instead, from the new library 🤗 Evaluate: https://huggingface.co/docs/evaluate\n",
      "  metric = load_metric(\"seqeval\")\n",
      "/home/jhag/.local/lib/python3.10/site-packages/datasets/load.py:759: FutureWarning: The repository for seqeval contains custom code which must be executed to correctly load the metric. You can inspect the repository content at https://raw.githubusercontent.com/huggingface/datasets/2.19.0/metrics/seqeval/seqeval.py\n",
      "You can avoid this message in future by passing the argument `trust_remote_code=True`.\n",
      "Passing `trust_remote_code=True` will be mandatory to load this metric from the next major release of `datasets`.\n",
      "  warnings.warn(\n"
     ]
    }
   ],
   "source": [
    "metric = load_metric(\"seqeval\")"
   ]
  },
  {
   "cell_type": "code",
   "execution_count": 25,
   "id": "473f1f8e",
   "metadata": {},
   "outputs": [],
   "source": [
    "#id2label = {v: k for k, v in label2id.items()}"
   ]
  },
  {
   "cell_type": "code",
   "execution_count": 26,
   "id": "5012138a",
   "metadata": {},
   "outputs": [],
   "source": [
    "#id2label"
   ]
  },
  {
   "cell_type": "code",
   "execution_count": 27,
   "id": "124807d2",
   "metadata": {},
   "outputs": [
    {
     "name": "stderr",
     "output_type": "stream",
     "text": [
      "Some weights of BertForTokenClassification were not initialized from the model checkpoint at bert-base-uncased and are newly initialized: ['classifier.bias', 'classifier.weight']\n",
      "You should probably TRAIN this model on a down-stream task to be able to use it for predictions and inference.\n"
     ]
    }
   ],
   "source": [
    "from transformers import AutoModelForTokenClassification\n",
    "\n",
    "model = AutoModelForTokenClassification.from_pretrained(\n",
    "    model_checkpoint,\n",
    "    id2label = id2label\n",
    ")"
   ]
  },
  {
   "cell_type": "code",
   "execution_count": 28,
   "id": "41bcd2b7",
   "metadata": {},
   "outputs": [],
   "source": [
    "label_names = list(label2id.keys())"
   ]
  },
  {
   "cell_type": "code",
   "execution_count": 29,
   "id": "beb69a9d",
   "metadata": {},
   "outputs": [],
   "source": [
    "def compute_metrics(eval_preds):\n",
    "    logits, labels = eval_preds\n",
    "    predictions = np.argmax(logits, axis=-1)\n",
    "\n",
    "    # Convert labels to a list of lists if it's a set\n",
    "    if isinstance(labels, set):\n",
    "        labels = [labels]\n",
    "\n",
    "    # Remove ignored index (special tokens) and convert to labels\n",
    "    true_labels = [[label_names[l] for l in label if l != -100] for label in labels]\n",
    "    true_predictions = [\n",
    "        [label_names[p] for (p, l) in zip(prediction, label) if l != -100]\n",
    "        for prediction, label in zip(predictions, labels)\n",
    "    ]\n",
    "    all_metrics = metric.compute(predictions=true_predictions, references=true_labels)\n",
    "    return {\n",
    "        \"precision\": all_metrics[\"overall_precision\"],\n",
    "        \"recall\": all_metrics[\"overall_recall\"],\n",
    "        \"f1\": all_metrics[\"overall_f1\"],\n",
    "        \"accuracy\": all_metrics[\"overall_accuracy\"],\n",
    "    }\n"
   ]
  },
  {
   "cell_type": "markdown",
   "id": "7f62bc1c",
   "metadata": {},
   "source": [
    "Initializing the trainger(?)"
   ]
  },
  {
   "cell_type": "code",
   "execution_count": 30,
   "id": "bfe8984a",
   "metadata": {},
   "outputs": [],
   "source": [
    "#!pip install accelerate -U"
   ]
  },
  {
   "cell_type": "code",
   "execution_count": 31,
   "id": "f466cdb3",
   "metadata": {},
   "outputs": [
    {
     "name": "stderr",
     "output_type": "stream",
     "text": [
      "/home/jhag/.local/lib/python3.10/site-packages/datasets/load.py:759: FutureWarning: The repository for seqeval contains custom code which must be executed to correctly load the metric. You can inspect the repository content at https://raw.githubusercontent.com/huggingface/datasets/2.19.0/metrics/seqeval/seqeval.py\n",
      "You can avoid this message in future by passing the argument `trust_remote_code=True`.\n",
      "Passing `trust_remote_code=True` will be mandatory to load this metric from the next major release of `datasets`.\n",
      "  warnings.warn(\n"
     ]
    }
   ],
   "source": [
    "from transformers import TrainingArguments\n",
    "from transformers import DataCollatorForTokenClassification\n",
    "\n",
    "\n",
    "args = TrainingArguments(\n",
    "    \"bert-finetuned-ner\",\n",
    "    evaluation_strategy=\"epoch\",\n",
    "    per_device_train_batch_size = 16,\n",
    "    per_device_eval_batch_size = 16,\n",
    "    learning_rate=2e-5,\n",
    "    num_train_epochs=5,\n",
    "    weight_decay=0.01,\n",
    "    push_to_hub=False,\n",
    ")\n",
    "\n",
    "data_collator = DataCollatorForTokenClassification(tokenizer=tokenizer)\n",
    "metric = load_metric(\"seqeval\")"
   ]
  },
  {
   "cell_type": "markdown",
   "id": "97461e34",
   "metadata": {},
   "source": [
    "# Training the model"
   ]
  },
  {
   "cell_type": "code",
   "execution_count": 32,
   "id": "053f5ac5",
   "metadata": {},
   "outputs": [],
   "source": [
    "data_collator = DataCollatorForTokenClassification(tokenizer=tokenizer)"
   ]
  },
  {
   "cell_type": "code",
   "execution_count": 34,
   "id": "6040c4e0",
   "metadata": {},
   "outputs": [],
   "source": [
    "import numpy as np"
   ]
  },
  {
   "cell_type": "code",
   "execution_count": 35,
   "id": "751e8bd5",
   "metadata": {},
   "outputs": [
    {
     "name": "stderr",
     "output_type": "stream",
     "text": [
      "Detected kernel version 3.10.0, which is below the recommended minimum of 5.5.0; this can cause the process to hang. It is recommended to upgrade the kernel to the minimum version or higher.\n"
     ]
    },
    {
     "data": {
      "text/html": [
       "\n",
       "    <div>\n",
       "      \n",
       "      <progress value='3920' max='3920' style='width:300px; height:20px; vertical-align: middle;'></progress>\n",
       "      [3920/3920 23:48, Epoch 5/5]\n",
       "    </div>\n",
       "    <table border=\"1\" class=\"dataframe\">\n",
       "  <thead>\n",
       " <tr style=\"text-align: left;\">\n",
       "      <th>Epoch</th>\n",
       "      <th>Training Loss</th>\n",
       "      <th>Validation Loss</th>\n",
       "      <th>Precision</th>\n",
       "      <th>Recall</th>\n",
       "      <th>F1</th>\n",
       "      <th>Accuracy</th>\n",
       "    </tr>\n",
       "  </thead>\n",
       "  <tbody>\n",
       "    <tr>\n",
       "      <td>1</td>\n",
       "      <td>0.028000</td>\n",
       "      <td>0.092444</td>\n",
       "      <td>0.764110</td>\n",
       "      <td>0.766885</td>\n",
       "      <td>0.765495</td>\n",
       "      <td>0.978742</td>\n",
       "    </tr>\n",
       "    <tr>\n",
       "      <td>2</td>\n",
       "      <td>0.017100</td>\n",
       "      <td>0.092623</td>\n",
       "      <td>0.766810</td>\n",
       "      <td>0.778504</td>\n",
       "      <td>0.772613</td>\n",
       "      <td>0.979075</td>\n",
       "    </tr>\n",
       "    <tr>\n",
       "      <td>3</td>\n",
       "      <td>0.009200</td>\n",
       "      <td>0.102873</td>\n",
       "      <td>0.791921</td>\n",
       "      <td>0.754539</td>\n",
       "      <td>0.772778</td>\n",
       "      <td>0.979342</td>\n",
       "    </tr>\n",
       "    <tr>\n",
       "      <td>4</td>\n",
       "      <td>0.003500</td>\n",
       "      <td>0.110328</td>\n",
       "      <td>0.777143</td>\n",
       "      <td>0.790123</td>\n",
       "      <td>0.783579</td>\n",
       "      <td>0.979741</td>\n",
       "    </tr>\n",
       "    <tr>\n",
       "      <td>5</td>\n",
       "      <td>0.002600</td>\n",
       "      <td>0.116733</td>\n",
       "      <td>0.770099</td>\n",
       "      <td>0.793028</td>\n",
       "      <td>0.781395</td>\n",
       "      <td>0.979375</td>\n",
       "    </tr>\n",
       "  </tbody>\n",
       "</table><p>"
      ],
      "text/plain": [
       "<IPython.core.display.HTML object>"
      ]
     },
     "metadata": {},
     "output_type": "display_data"
    },
    {
     "data": {
      "text/plain": [
       "TrainOutput(global_step=3920, training_loss=0.010904745544706072, metrics={'train_runtime': 1428.5994, 'train_samples_per_second': 43.9, 'train_steps_per_second': 2.744, 'total_flos': 5633363729711104.0, 'train_loss': 0.010904745544706072, 'epoch': 5.0})"
      ]
     },
     "execution_count": 35,
     "metadata": {},
     "output_type": "execute_result"
    }
   ],
   "source": [
    "from transformers import Trainer\n",
    "\n",
    "trainer = Trainer(\n",
    "    model=model,\n",
    "    args=args,\n",
    "    train_dataset=train_dataset,\n",
    "    eval_dataset=dev_dataset,\n",
    "    data_collator=data_collator,\n",
    "    tokenizer=tokenizer,\n",
    "    compute_metrics = compute_metrics\n",
    ")\n",
    "trainer.train()"
   ]
  },
  {
   "cell_type": "code",
   "execution_count": null,
   "id": "14d5f926",
   "metadata": {},
   "outputs": [],
   "source": [
    "model.save_pretrained('baseline')"
   ]
  }
 ],
 "metadata": {
  "kernelspec": {
   "display_name": "Python 3 (ipykernel)",
   "language": "python",
   "name": "python3"
  },
  "language_info": {
   "codemirror_mode": {
    "name": "ipython",
    "version": 3
   },
   "file_extension": ".py",
   "mimetype": "text/x-python",
   "name": "python",
   "nbconvert_exporter": "python",
   "pygments_lexer": "ipython3",
   "version": "3.10.12"
  }
 },
 "nbformat": 4,
 "nbformat_minor": 5
}
