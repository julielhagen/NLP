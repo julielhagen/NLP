{
 "cells": [
  {
   "cell_type": "code",
   "execution_count": 1,
   "metadata": {},
   "outputs": [],
   "source": [
    "import pandas as pd"
   ]
  },
  {
   "cell_type": "code",
   "execution_count": 2,
   "metadata": {},
   "outputs": [],
   "source": [
    "# to load the data, you must pip install pyarrow\n",
    "\n",
    "import pyarrow"
   ]
  },
  {
   "cell_type": "code",
   "execution_count": 3,
   "metadata": {},
   "outputs": [
    {
     "data": {
      "text/html": [
       "<div>\n",
       "<style scoped>\n",
       "    .dataframe tbody tr th:only-of-type {\n",
       "        vertical-align: middle;\n",
       "    }\n",
       "\n",
       "    .dataframe tbody tr th {\n",
       "        vertical-align: top;\n",
       "    }\n",
       "\n",
       "    .dataframe thead th {\n",
       "        text-align: right;\n",
       "    }\n",
       "</style>\n",
       "<table border=\"1\" class=\"dataframe\">\n",
       "  <thead>\n",
       "    <tr style=\"text-align: right;\">\n",
       "      <th></th>\n",
       "      <th>tokens</th>\n",
       "      <th>ner_tags</th>\n",
       "      <th>langs</th>\n",
       "      <th>spans</th>\n",
       "    </tr>\n",
       "  </thead>\n",
       "  <tbody>\n",
       "    <tr>\n",
       "      <th>0</th>\n",
       "      <td>[Shortly, afterward, ,, an, encouraging, respo...</td>\n",
       "      <td>[0, 0, 0, 0, 0, 0, 0, 0, 0, 0, 0, 5, 0, 0, 0, ...</td>\n",
       "      <td>[en, en, en, en, en, en, en, en, en, en, en, e...</td>\n",
       "      <td>[LOC: India, LOC: Adyar]</td>\n",
       "    </tr>\n",
       "    <tr>\n",
       "      <th>1</th>\n",
       "      <td>[:, Kanye, West, featuring, Jamie, Foxx, —, ``...</td>\n",
       "      <td>[0, 1, 2, 0, 1, 2, 0, 0, 3, 4, 0, 0, 0, 0]</td>\n",
       "      <td>[en, en, en, en, en, en, en, en, en, en, en, e...</td>\n",
       "      <td>[PER: Kanye West, PER: Jamie Foxx, ORG: Gold D...</td>\n",
       "    </tr>\n",
       "    <tr>\n",
       "      <th>2</th>\n",
       "      <td>[Blacktown, railway, station]</td>\n",
       "      <td>[3, 4, 4]</td>\n",
       "      <td>[en, en, en]</td>\n",
       "      <td>[ORG: Blacktown railway station]</td>\n",
       "    </tr>\n",
       "    <tr>\n",
       "      <th>3</th>\n",
       "      <td>['', Mycalesis, perseus, lalassis, '', (, Hewi...</td>\n",
       "      <td>[0, 5, 6, 6, 0, 0, 0, 0, 0, 0]</td>\n",
       "      <td>[en, en, en, en, en, en, en, en, en, en]</td>\n",
       "      <td>[LOC: Mycalesis perseus lalassis]</td>\n",
       "    </tr>\n",
       "    <tr>\n",
       "      <th>4</th>\n",
       "      <td>[Jonny, Lee, Miller, -, Eli, Stone, '']</td>\n",
       "      <td>[1, 2, 2, 0, 3, 4, 0]</td>\n",
       "      <td>[en, en, en, en, en, en, en]</td>\n",
       "      <td>[PER: Jonny Lee Miller, ORG: Eli Stone]</td>\n",
       "    </tr>\n",
       "  </tbody>\n",
       "</table>\n",
       "</div>"
      ],
      "text/plain": [
       "                                              tokens  \\\n",
       "0  [Shortly, afterward, ,, an, encouraging, respo...   \n",
       "1  [:, Kanye, West, featuring, Jamie, Foxx, —, ``...   \n",
       "2                      [Blacktown, railway, station]   \n",
       "3  ['', Mycalesis, perseus, lalassis, '', (, Hewi...   \n",
       "4            [Jonny, Lee, Miller, -, Eli, Stone, '']   \n",
       "\n",
       "                                            ner_tags  \\\n",
       "0  [0, 0, 0, 0, 0, 0, 0, 0, 0, 0, 0, 5, 0, 0, 0, ...   \n",
       "1         [0, 1, 2, 0, 1, 2, 0, 0, 3, 4, 0, 0, 0, 0]   \n",
       "2                                          [3, 4, 4]   \n",
       "3                     [0, 5, 6, 6, 0, 0, 0, 0, 0, 0]   \n",
       "4                              [1, 2, 2, 0, 3, 4, 0]   \n",
       "\n",
       "                                               langs  \\\n",
       "0  [en, en, en, en, en, en, en, en, en, en, en, e...   \n",
       "1  [en, en, en, en, en, en, en, en, en, en, en, e...   \n",
       "2                                       [en, en, en]   \n",
       "3           [en, en, en, en, en, en, en, en, en, en]   \n",
       "4                       [en, en, en, en, en, en, en]   \n",
       "\n",
       "                                               spans  \n",
       "0                           [LOC: India, LOC: Adyar]  \n",
       "1  [PER: Kanye West, PER: Jamie Foxx, ORG: Gold D...  \n",
       "2                   [ORG: Blacktown railway station]  \n",
       "3                  [LOC: Mycalesis perseus lalassis]  \n",
       "4            [PER: Jonny Lee Miller, ORG: Eli Stone]  "
      ]
     },
     "execution_count": 3,
     "metadata": {},
     "output_type": "execute_result"
    }
   ],
   "source": [
    "# read\n",
    "df = pd.read_parquet('data/test-00000-of-00001.parquet')\n",
    "\n",
    "# write\n",
    "#df.to_parquet('my_newfile.parquet')\n",
    "\n",
    "df.head()"
   ]
  },
  {
   "cell_type": "code",
   "execution_count": null,
   "metadata": {},
   "outputs": [],
   "source": []
  }
 ],
 "metadata": {
  "kernelspec": {
   "display_name": "base",
   "language": "python",
   "name": "python3"
  },
  "language_info": {
   "codemirror_mode": {
    "name": "ipython",
    "version": 3
   },
   "file_extension": ".py",
   "mimetype": "text/x-python",
   "name": "python",
   "nbconvert_exporter": "python",
   "pygments_lexer": "ipython3",
   "version": "3.10.0"
  }
 },
 "nbformat": 4,
 "nbformat_minor": 2
}
