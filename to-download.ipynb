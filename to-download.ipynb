{
 "cells": [
  {
   "cell_type": "code",
   "execution_count": 1,
   "metadata": {},
   "outputs": [],
   "source": [
    "import pandas as pd"
   ]
  },
  {
   "cell_type": "code",
   "execution_count": 2,
   "metadata": {},
   "outputs": [],
   "source": [
    "# to load the data, you must pip install pyarrow\n",
    "\n",
    "import pyarrow"
   ]
  },
  {
   "cell_type": "code",
   "execution_count": 3,
   "metadata": {},
   "outputs": [
    {
     "data": {
      "text/html": [
       "<div>\n",
       "<style scoped>\n",
       "    .dataframe tbody tr th:only-of-type {\n",
       "        vertical-align: middle;\n",
       "    }\n",
       "\n",
       "    .dataframe tbody tr th {\n",
       "        vertical-align: top;\n",
       "    }\n",
       "\n",
       "    .dataframe thead th {\n",
       "        text-align: right;\n",
       "    }\n",
       "</style>\n",
       "<table border=\"1\" class=\"dataframe\">\n",
       "  <thead>\n",
       "    <tr style=\"text-align: right;\">\n",
       "      <th></th>\n",
       "      <th>tokens</th>\n",
       "      <th>ner_tags</th>\n",
       "      <th>langs</th>\n",
       "      <th>spans</th>\n",
       "    </tr>\n",
       "  </thead>\n",
       "  <tbody>\n",
       "    <tr>\n",
       "      <th>0</th>\n",
       "      <td>[Shortly, afterward, ,, an, encouraging, respo...</td>\n",
       "      <td>[0, 0, 0, 0, 0, 0, 0, 0, 0, 0, 0, 5, 0, 0, 0, ...</td>\n",
       "      <td>[en, en, en, en, en, en, en, en, en, en, en, e...</td>\n",
       "      <td>[LOC: India, LOC: Adyar]</td>\n",
       "    </tr>\n",
       "    <tr>\n",
       "      <th>1</th>\n",
       "      <td>[:, Kanye, West, featuring, Jamie, Foxx, —, ``...</td>\n",
       "      <td>[0, 1, 2, 0, 1, 2, 0, 0, 3, 4, 0, 0, 0, 0]</td>\n",
       "      <td>[en, en, en, en, en, en, en, en, en, en, en, e...</td>\n",
       "      <td>[PER: Kanye West, PER: Jamie Foxx, ORG: Gold D...</td>\n",
       "    </tr>\n",
       "    <tr>\n",
       "      <th>2</th>\n",
       "      <td>[Blacktown, railway, station]</td>\n",
       "      <td>[3, 4, 4]</td>\n",
       "      <td>[en, en, en]</td>\n",
       "      <td>[ORG: Blacktown railway station]</td>\n",
       "    </tr>\n",
       "    <tr>\n",
       "      <th>3</th>\n",
       "      <td>['', Mycalesis, perseus, lalassis, '', (, Hewi...</td>\n",
       "      <td>[0, 5, 6, 6, 0, 0, 0, 0, 0, 0]</td>\n",
       "      <td>[en, en, en, en, en, en, en, en, en, en]</td>\n",
       "      <td>[LOC: Mycalesis perseus lalassis]</td>\n",
       "    </tr>\n",
       "    <tr>\n",
       "      <th>4</th>\n",
       "      <td>[Jonny, Lee, Miller, -, Eli, Stone, '']</td>\n",
       "      <td>[1, 2, 2, 0, 3, 4, 0]</td>\n",
       "      <td>[en, en, en, en, en, en, en]</td>\n",
       "      <td>[PER: Jonny Lee Miller, ORG: Eli Stone]</td>\n",
       "    </tr>\n",
       "  </tbody>\n",
       "</table>\n",
       "</div>"
      ],
      "text/plain": [
       "                                              tokens  \\\n",
       "0  [Shortly, afterward, ,, an, encouraging, respo...   \n",
       "1  [:, Kanye, West, featuring, Jamie, Foxx, —, ``...   \n",
       "2                      [Blacktown, railway, station]   \n",
       "3  ['', Mycalesis, perseus, lalassis, '', (, Hewi...   \n",
       "4            [Jonny, Lee, Miller, -, Eli, Stone, '']   \n",
       "\n",
       "                                            ner_tags  \\\n",
       "0  [0, 0, 0, 0, 0, 0, 0, 0, 0, 0, 0, 5, 0, 0, 0, ...   \n",
       "1         [0, 1, 2, 0, 1, 2, 0, 0, 3, 4, 0, 0, 0, 0]   \n",
       "2                                          [3, 4, 4]   \n",
       "3                     [0, 5, 6, 6, 0, 0, 0, 0, 0, 0]   \n",
       "4                              [1, 2, 2, 0, 3, 4, 0]   \n",
       "\n",
       "                                               langs  \\\n",
       "0  [en, en, en, en, en, en, en, en, en, en, en, e...   \n",
       "1  [en, en, en, en, en, en, en, en, en, en, en, e...   \n",
       "2                                       [en, en, en]   \n",
       "3           [en, en, en, en, en, en, en, en, en, en]   \n",
       "4                       [en, en, en, en, en, en, en]   \n",
       "\n",
       "                                               spans  \n",
       "0                           [LOC: India, LOC: Adyar]  \n",
       "1  [PER: Kanye West, PER: Jamie Foxx, ORG: Gold D...  \n",
       "2                   [ORG: Blacktown railway station]  \n",
       "3                  [LOC: Mycalesis perseus lalassis]  \n",
       "4            [PER: Jonny Lee Miller, ORG: Eli Stone]  "
      ]
     },
     "execution_count": 3,
     "metadata": {},
     "output_type": "execute_result"
    }
   ],
   "source": [
    "# read\n",
    "df = pd.read_parquet('data/test-00000-of-00001.parquet')\n",
    "\n",
    "# write\n",
    "#df.to_parquet('my_newfile.parquet')\n",
    "\n",
    "df.head()"
   ]
  },
  {
   "cell_type": "code",
   "execution_count": 1,
   "metadata": {},
   "outputs": [],
   "source": [
    "def save_iob2_file(tokens, labels, predictions, file_path):\n",
    "    with open(file_path, 'w', encoding='utf-8') as file:\n",
    "        for token, label, prediction in zip(tokens, labels, predictions):\n",
    "            file.write(f\"{token} {label} {prediction}\\n\")\n",
    "        file.write(\"\\n\")\n",
    "\n",
    "# Example usage:\n",
    "tokens = [\"Apple\", \"is\", \"a\", \"fruit\", \".\", \"Banana\", \"is\", \"also\", \"a\", \"fruit\", \".\"]\n",
    "labels = [\"B-Fruit\", \"O\", \"O\", \"B-Fruit\", \"O\", \"B-Fruit\", \"O\", \"O\", \"O\", \"B-Fruit\", \"O\"]\n",
    "predictions = [\"B-Fruit\", \"O\", \"O\", \"B-Fruit\", \"O\", \"B-Fruit\", \"O\", \"O\", \"O\", \"B-Fruit\", \"O\"]\n",
    "\n",
    "save_iob2_file(tokens, labels, predictions, \"example.iob2\")"
   ]
  },
  {
   "cell_type": "code",
   "execution_count": 2,
   "metadata": {},
   "outputs": [],
   "source": [
    "tokenized_sentences = [\n",
    "    [\"where\", \"can\", \"I\", \"get\", \"morcillas\", \"in\", \"tampa\", \"bay\", \",\", \"I\", \"will\", \"like\", \"the\", \"argentinian\", \"type\", \",\", \"but\", \"I\", \"will\", \"to\", \"try\", \"anothers\", \"please\", \"?\"],\n",
    "    [\"I\", \"searched\", \"all\", \"over\", \"the\", \"internet\", \",\", \"but\", \"I\", \"could\", \"not\", \"find\", \"one\", \"place\", \"in\", \"Tampa\", \"Bay\", \"that\", \"sells\", \"morcillas\", \",\", \"also\", \"known\", \"as\", \"blood\", \"pudding\", \",\", \"black\", \"pudding\", \"and\", \"blood\", \"sausages\", \".\"]\n",
    "]\n",
    "\n",
    "labels = [\n",
    "    [\"O\", \"O\", \"O\", \"O\", \"O\", \"O\", \"B-LOC\", \"I-LOC\", \"O\", \"O\", \"O\", \"O\", \"O\", \"O\", \"O\", \"O\", \"O\", \"O\", \"O\", \"O\", \"O\", \"O\", \"O\", \"O\", \"O\"],\n",
    "    [\"O\", \"O\", \"O\", \"O\", \"O\", \"O\", \"O\", \"O\", \"O\", \"O\", \"O\", \"O\", \"O\", \"O\", \"O\", \"B-LOC\", \"I-LOC\", \"O\", \"O\", \"O\", \"O\", \"O\", \"O\", \"O\", \"O\", \"O\", \"O\", \"O\", \"O\", \"O\", \"O\", \"O\", \"O\", \"O\"]\n",
    "]\n",
    "\n",
    "# Define the file name\n",
    "file_name = \"output_test.iob2\"\n",
    "\n",
    "# Write data to the file\n",
    "with open(file_name, \"w\") as file:\n",
    "    for i, (sentence, label) in enumerate(zip(tokenized_sentences, labels), start=1):\n",
    "        file.write(f\"# sent_id = answers-20070404104007AAY1Chs_ans-{str(i).zfill(4)}\\n\")\n",
    "        file.write(\"# text = \" + \" \".join(sentence) + \"\\n\")\n",
    "        for j, (token, lbl) in enumerate(zip(sentence, label), start=1):\n",
    "            file.write(f\"{j}\\t{token}\\t{lbl}\\t-\\t-\\n\")\n",
    "        file.write(\"\\n\")"
   ]
  },
  {
   "cell_type": "code",
   "execution_count": 4,
   "metadata": {},
   "outputs": [
    {
     "ename": "AttributeError",
     "evalue": "'ellipsis' object has no attribute 'split'",
     "output_type": "error",
     "traceback": [
      "\u001b[0;31m---------------------------------------------------------------------------\u001b[0m",
      "\u001b[0;31mAttributeError\u001b[0m                            Traceback (most recent call last)",
      "Input \u001b[0;32mIn [4]\u001b[0m, in \u001b[0;36m<cell line: 16>\u001b[0;34m()\u001b[0m\n\u001b[1;32m     18\u001b[0m \u001b[38;5;28;01mwhile\u001b[39;00m tokenized_sentences:\n\u001b[1;32m     19\u001b[0m     sentence \u001b[38;5;241m=\u001b[39m tokenized_sentences\u001b[38;5;241m.\u001b[39mpop(\u001b[38;5;241m0\u001b[39m)\n\u001b[0;32m---> 20\u001b[0m     sentence_tokens \u001b[38;5;241m=\u001b[39m \u001b[43msentence\u001b[49m\u001b[38;5;241;43m.\u001b[39;49m\u001b[43msplit\u001b[49m()\n\u001b[1;32m     21\u001b[0m     label \u001b[38;5;241m=\u001b[39m labels[:\u001b[38;5;28mlen\u001b[39m(sentence_tokens)]\n\u001b[1;32m     22\u001b[0m     labels \u001b[38;5;241m=\u001b[39m labels[\u001b[38;5;28mlen\u001b[39m(sentence_tokens):]\n",
      "\u001b[0;31mAttributeError\u001b[0m: 'ellipsis' object has no attribute 'split'"
     ]
    }
   ],
   "source": [
    "# Define your tokenized sentences and corresponding labels as long lists of strings\n",
    "tokenized_sentences = [\n",
    "    'What', 'is', 'this', 'Miramar', '?', 'It', 'is', 'a', 'place', 'in', 'Argentina', 'lol', 'what', 'is', 'a', 'good', 'slogan', 'for', 'an', 'Argentinian', 'restaurant', '?', '\"', 'In', 'Argentina',\n",
    "    ...\n",
    "]\n",
    "\n",
    "labels = [\n",
    "    'O', 'O', 'O', 'B-LOC', 'O', 'O', 'O', 'O', 'O', 'O', 'B-LOC', 'O', 'O', 'O', 'O', 'O', 'O', 'O', 'O', 'O', 'B-MISC', 'O', 'O', 'O', 'B-LOC',\n",
    "    ...\n",
    "]\n",
    "\n",
    "# Define the file name\n",
    "file_name = \"output.iob2\"\n",
    "\n",
    "# Write data to the file\n",
    "with open(file_name, \"w\") as file:\n",
    "    i = 1\n",
    "    while tokenized_sentences:\n",
    "        sentence = tokenized_sentences.pop(0)\n",
    "        sentence_tokens = sentence.split()\n",
    "        label = labels[:len(sentence_tokens)]\n",
    "        labels = labels[len(sentence_tokens):]\n",
    "\n",
    "        file.write(f\"# sent_id = answers-20070404104007AAY1Chs_ans-{str(i).zfill(4)}\\n\")\n",
    "        file.write(\"# text = \" + sentence + \"\\n\")\n",
    "\n",
    "        for j, (token, lbl) in enumerate(zip(sentence_tokens, label), start=1):\n",
    "            file.write(f\"{j}\\t{token}\\t{lbl}\\t-\\t-\\n\")\n",
    "        file.write(\"\\n\")\n",
    "        i += 1\n",
    "\n"
   ]
  },
  {
   "cell_type": "code",
   "execution_count": null,
   "metadata": {},
   "outputs": [],
   "source": []
  }
 ],
 "metadata": {
  "kernelspec": {
   "display_name": "base",
   "language": "python",
   "name": "python3"
  },
  "language_info": {
   "codemirror_mode": {
    "name": "ipython",
    "version": 3
   },
   "file_extension": ".py",
   "mimetype": "text/x-python",
   "name": "python",
   "nbconvert_exporter": "python",
   "pygments_lexer": "ipython3",
   "version": "3.9.12"
  }
 },
 "nbformat": 4,
 "nbformat_minor": 2
}
